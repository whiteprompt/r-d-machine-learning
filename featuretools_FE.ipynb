{
  "cells": [
    {
      "cell_type": "markdown",
      "metadata": {
        "id": "view-in-github",
        "colab_type": "text"
      },
      "source": [
        "<a href=\"https://colab.research.google.com/github/whiteprompt/r-d-machine-learning/blob/master/featuretools_FE.ipynb\" target=\"_parent\"><img src=\"https://colab.research.google.com/assets/colab-badge.svg\" alt=\"Open In Colab\"/></a>"
      ]
    },
    {
      "cell_type": "code",
      "source": [
        "!pip install featuretools==1.7.0 category_encoders --quiet"
      ],
      "metadata": {
        "id": "-14seqrTKcyu"
      },
      "execution_count": null,
      "outputs": []
    },
    {
      "cell_type": "code",
      "execution_count": null,
      "metadata": {
        "colab": {
          "base_uri": "https://localhost:8080/"
        },
        "id": "NXCmb7HoKT0C",
        "outputId": "42fd5107-b476-455d-e7e0-e2781bbd7e29"
      },
      "outputs": [
        {
          "output_type": "stream",
          "name": "stderr",
          "text": [
            "/usr/local/lib/python3.7/dist-packages/woodwork/__init__.py:23: FutureWarning: Woodwork may not support Python 3.7 in next non-bugfix release.\n",
            "  \"Woodwork may not support Python 3.7 in next non-bugfix release.\", FutureWarning\n",
            "/usr/local/lib/python3.7/dist-packages/featuretools/__init__.py:67: FutureWarning: Featuretools may not support Python 3.7 in next non-bugfix release.\n",
            "  FutureWarning,\n"
          ]
        }
      ],
      "source": [
        "import pandas as pd\n",
        "import numpy as np\n",
        "\n",
        "import featuretools as ft\n",
        "\n",
        "# Suppress warnings from pandas\n",
        "import warnings\n",
        "warnings.filterwarnings('ignore')\n",
        "\n",
        "pd.set_option('display.max_columns', None)"
      ]
    },
    {
      "cell_type": "code",
      "execution_count": null,
      "metadata": {
        "id": "3c7p6qKDKT0H"
      },
      "outputs": [],
      "source": [
        "train = pd.read_csv('./data/raw/application_train.csv.gz')\n",
        "test = pd.read_csv('./data/raw/application_test.csv.gz')\n",
        "bureau = pd.read_csv('./data/raw/bureau.csv.gz')\n",
        "bureau_balance = pd.read_csv('./data/raw/bureau_balance.csv.gz')"
      ]
    },
    {
      "cell_type": "code",
      "execution_count": null,
      "metadata": {
        "id": "NDP9HQrDKT0H"
      },
      "outputs": [],
      "source": [
        "# Add identifying column\n",
        "train['set'] = 'train'\n",
        "test['set'] = 'test'\n",
        "test[\"TARGET\"] = np.nan\n",
        "\n",
        "# Append the dataframes\n",
        "app = train.append(test, ignore_index=True)"
      ]
    },
    {
      "cell_type": "markdown",
      "metadata": {
        "id": "Rg-jZcHVKT0I"
      },
      "source": [
        "## Entities and Entitysets"
      ]
    },
    {
      "cell_type": "code",
      "execution_count": null,
      "metadata": {
        "id": "Y9VB0pUzKT0K"
      },
      "outputs": [],
      "source": [
        "# Entity set with id applications\n",
        "es = ft.EntitySet(id='clients')"
      ]
    },
    {
      "cell_type": "code",
      "execution_count": null,
      "metadata": {
        "id": "BT3QWRGgKT0K"
      },
      "outputs": [],
      "source": [
        "# Entities with a unique index\n",
        "es = es.add_dataframe(\n",
        "    dataframe_name='application',\n",
        "    dataframe=app,\n",
        "    index='SK_ID_CURR'\n",
        ")\n",
        "\n",
        "es = es.add_dataframe(\n",
        "    dataframe_name='bureau',\n",
        "    dataframe=bureau,\n",
        "    index='SK_ID_BUREAU'\n",
        ")\n",
        "\n",
        "# Entities that do not have a unique index\n",
        "es = es.add_dataframe(\n",
        "    dataframe_name='bureau_balance',\n",
        "    dataframe=bureau_balance,\n",
        "    make_index=True,\n",
        "    index='bureaubalance_index'\n",
        ")"
      ]
    },
    {
      "cell_type": "code",
      "execution_count": null,
      "metadata": {
        "id": "Ss_LSa0HKT0M",
        "outputId": "aed00996-d95b-4b1c-ffd1-8391650d9938",
        "colab": {
          "base_uri": "https://localhost:8080/"
        }
      },
      "outputs": [
        {
          "output_type": "execute_result",
          "data": {
            "text/plain": [
              "Entityset: clients\n",
              "  DataFrames:\n",
              "    application [Rows: 356255, Columns: 123]\n",
              "    bureau [Rows: 1716428, Columns: 17]\n",
              "    bureau_balance [Rows: 27299925, Columns: 4]\n",
              "  Relationships:\n",
              "    No relationships"
            ]
          },
          "metadata": {},
          "execution_count": 7
        }
      ],
      "source": [
        "es"
      ]
    },
    {
      "cell_type": "markdown",
      "metadata": {
        "id": "jq7bCIWWKT0N"
      },
      "source": [
        "## Relationships"
      ]
    },
    {
      "cell_type": "code",
      "execution_count": null,
      "metadata": {
        "id": "RsCPYMgdKT0O"
      },
      "outputs": [],
      "source": [
        "es = es.add_relationship(\n",
        "    parent_dataframe_name='application',\n",
        "    parent_column_name='SK_ID_CURR',\n",
        "    child_dataframe_name='bureau',\n",
        "    child_column_name='SK_ID_CURR'\n",
        ")\n",
        "\n",
        "es = es.add_relationship(\n",
        "    parent_dataframe_name='bureau',\n",
        "    parent_column_name='SK_ID_BUREAU',\n",
        "    child_dataframe_name='bureau_balance',\n",
        "    child_column_name='SK_ID_BUREAU'\n",
        ")"
      ]
    },
    {
      "cell_type": "code",
      "execution_count": null,
      "metadata": {
        "id": "PwJk8dX1KT0P",
        "outputId": "8c797fb1-9fea-4204-f60b-b031a47b2eac",
        "colab": {
          "base_uri": "https://localhost:8080/"
        }
      },
      "outputs": [
        {
          "output_type": "execute_result",
          "data": {
            "text/plain": [
              "Entityset: clients\n",
              "  DataFrames:\n",
              "    application [Rows: 356255, Columns: 123]\n",
              "    bureau [Rows: 1716428, Columns: 17]\n",
              "    bureau_balance [Rows: 27299925, Columns: 4]\n",
              "  Relationships:\n",
              "    bureau.SK_ID_CURR -> application.SK_ID_CURR\n",
              "    bureau_balance.SK_ID_BUREAU -> bureau.SK_ID_BUREAU"
            ]
          },
          "metadata": {},
          "execution_count": 9
        }
      ],
      "source": [
        "es"
      ]
    },
    {
      "cell_type": "code",
      "execution_count": null,
      "metadata": {
        "id": "1s4MlQyrKT0Q",
        "outputId": "76f81674-3555-46a9-ae05-d37191e139b4",
        "colab": {
          "base_uri": "https://localhost:8080/",
          "height": 1000
        }
      },
      "outputs": [
        {
          "output_type": "execute_result",
          "data": {
            "text/plain": [
              "<graphviz.dot.Digraph at 0x7f677c4c8e50>"
            ],
            "image/svg+xml": "<?xml version=\"1.0\" encoding=\"UTF-8\" standalone=\"no\"?>\n<!DOCTYPE svg PUBLIC \"-//W3C//DTD SVG 1.1//EN\"\n \"http://www.w3.org/Graphics/SVG/1.1/DTD/svg11.dtd\">\n<!-- Generated by graphviz version 2.40.1 (20161225.0304)\n -->\n<!-- Title: clients Pages: 1 -->\n<svg width=\"340pt\" height=\"2336pt\"\n viewBox=\"0.00 0.00 340.00 2336.00\" xmlns=\"http://www.w3.org/2000/svg\" xmlns:xlink=\"http://www.w3.org/1999/xlink\">\n<g id=\"graph0\" class=\"graph\" transform=\"scale(1 1) rotate(0) translate(4 2332)\">\n<title>clients</title>\n<polygon fill=\"#ffffff\" stroke=\"transparent\" points=\"-4,4 -4,-2332 336,-2332 336,4 -4,4\"/>\n<!-- application -->\n<g id=\"node1\" class=\"node\">\n<title>application</title>\n<polygon fill=\"none\" stroke=\"#000000\" points=\"0,-.5 0,-1876.5 332,-1876.5 332,-.5 0,-.5\"/>\n<text text-anchor=\"middle\" x=\"166\" y=\"-1861.3\" font-family=\"Times,serif\" font-size=\"14.00\" fill=\"#000000\">application (356255 rows)</text>\n<polyline fill=\"none\" stroke=\"#000000\" points=\"0,-1853.5 332,-1853.5 \"/>\n<text text-anchor=\"start\" x=\"8\" y=\"-1838.3\" font-family=\"Times,serif\" font-size=\"14.00\" fill=\"#000000\">SK_ID_CURR : Integer; index</text>\n<text text-anchor=\"start\" x=\"8\" y=\"-1823.3\" font-family=\"Times,serif\" font-size=\"14.00\" fill=\"#000000\">TARGET : Double</text>\n<text text-anchor=\"start\" x=\"8\" y=\"-1808.3\" font-family=\"Times,serif\" font-size=\"14.00\" fill=\"#000000\">NAME_CONTRACT_TYPE : Categorical</text>\n<text text-anchor=\"start\" x=\"8\" y=\"-1793.3\" font-family=\"Times,serif\" font-size=\"14.00\" fill=\"#000000\">CODE_GENDER : Categorical</text>\n<text text-anchor=\"start\" x=\"8\" y=\"-1778.3\" font-family=\"Times,serif\" font-size=\"14.00\" fill=\"#000000\">FLAG_OWN_CAR : Categorical</text>\n<text text-anchor=\"start\" x=\"8\" y=\"-1763.3\" font-family=\"Times,serif\" font-size=\"14.00\" fill=\"#000000\">FLAG_OWN_REALTY : Categorical</text>\n<text text-anchor=\"start\" x=\"8\" y=\"-1748.3\" font-family=\"Times,serif\" font-size=\"14.00\" fill=\"#000000\">CNT_CHILDREN : Integer</text>\n<text text-anchor=\"start\" x=\"8\" y=\"-1733.3\" font-family=\"Times,serif\" font-size=\"14.00\" fill=\"#000000\">AMT_INCOME_TOTAL : Double</text>\n<text text-anchor=\"start\" x=\"8\" y=\"-1718.3\" font-family=\"Times,serif\" font-size=\"14.00\" fill=\"#000000\">AMT_CREDIT : Double</text>\n<text text-anchor=\"start\" x=\"8\" y=\"-1703.3\" font-family=\"Times,serif\" font-size=\"14.00\" fill=\"#000000\">AMT_ANNUITY : Double</text>\n<text text-anchor=\"start\" x=\"8\" y=\"-1688.3\" font-family=\"Times,serif\" font-size=\"14.00\" fill=\"#000000\">AMT_GOODS_PRICE : Double</text>\n<text text-anchor=\"start\" x=\"8\" y=\"-1673.3\" font-family=\"Times,serif\" font-size=\"14.00\" fill=\"#000000\">NAME_TYPE_SUITE : Categorical</text>\n<text text-anchor=\"start\" x=\"8\" y=\"-1658.3\" font-family=\"Times,serif\" font-size=\"14.00\" fill=\"#000000\">NAME_INCOME_TYPE : Categorical</text>\n<text text-anchor=\"start\" x=\"8\" y=\"-1643.3\" font-family=\"Times,serif\" font-size=\"14.00\" fill=\"#000000\">NAME_EDUCATION_TYPE : Categorical</text>\n<text text-anchor=\"start\" x=\"8\" y=\"-1628.3\" font-family=\"Times,serif\" font-size=\"14.00\" fill=\"#000000\">NAME_FAMILY_STATUS : Categorical</text>\n<text text-anchor=\"start\" x=\"8\" y=\"-1613.3\" font-family=\"Times,serif\" font-size=\"14.00\" fill=\"#000000\">NAME_HOUSING_TYPE : Categorical</text>\n<text text-anchor=\"start\" x=\"8\" y=\"-1598.3\" font-family=\"Times,serif\" font-size=\"14.00\" fill=\"#000000\">REGION_POPULATION_RELATIVE : Double</text>\n<text text-anchor=\"start\" x=\"8\" y=\"-1583.3\" font-family=\"Times,serif\" font-size=\"14.00\" fill=\"#000000\">DAYS_BIRTH : Integer</text>\n<text text-anchor=\"start\" x=\"8\" y=\"-1568.3\" font-family=\"Times,serif\" font-size=\"14.00\" fill=\"#000000\">DAYS_EMPLOYED : Integer</text>\n<text text-anchor=\"start\" x=\"8\" y=\"-1553.3\" font-family=\"Times,serif\" font-size=\"14.00\" fill=\"#000000\">DAYS_REGISTRATION : Double</text>\n<text text-anchor=\"start\" x=\"8\" y=\"-1538.3\" font-family=\"Times,serif\" font-size=\"14.00\" fill=\"#000000\">DAYS_ID_PUBLISH : Integer</text>\n<text text-anchor=\"start\" x=\"8\" y=\"-1523.3\" font-family=\"Times,serif\" font-size=\"14.00\" fill=\"#000000\">OWN_CAR_AGE : Double</text>\n<text text-anchor=\"start\" x=\"8\" y=\"-1508.3\" font-family=\"Times,serif\" font-size=\"14.00\" fill=\"#000000\">FLAG_MOBIL : Integer</text>\n<text text-anchor=\"start\" x=\"8\" y=\"-1493.3\" font-family=\"Times,serif\" font-size=\"14.00\" fill=\"#000000\">FLAG_EMP_PHONE : Integer</text>\n<text text-anchor=\"start\" x=\"8\" y=\"-1478.3\" font-family=\"Times,serif\" font-size=\"14.00\" fill=\"#000000\">FLAG_WORK_PHONE : Integer</text>\n<text text-anchor=\"start\" x=\"8\" y=\"-1463.3\" font-family=\"Times,serif\" font-size=\"14.00\" fill=\"#000000\">FLAG_CONT_MOBILE : Integer</text>\n<text text-anchor=\"start\" x=\"8\" y=\"-1448.3\" font-family=\"Times,serif\" font-size=\"14.00\" fill=\"#000000\">FLAG_PHONE : Integer</text>\n<text text-anchor=\"start\" x=\"8\" y=\"-1433.3\" font-family=\"Times,serif\" font-size=\"14.00\" fill=\"#000000\">FLAG_EMAIL : Integer</text>\n<text text-anchor=\"start\" x=\"8\" y=\"-1418.3\" font-family=\"Times,serif\" font-size=\"14.00\" fill=\"#000000\">OCCUPATION_TYPE : Categorical</text>\n<text text-anchor=\"start\" x=\"8\" y=\"-1403.3\" font-family=\"Times,serif\" font-size=\"14.00\" fill=\"#000000\">CNT_FAM_MEMBERS : Double</text>\n<text text-anchor=\"start\" x=\"8\" y=\"-1388.3\" font-family=\"Times,serif\" font-size=\"14.00\" fill=\"#000000\">REGION_RATING_CLIENT : Integer</text>\n<text text-anchor=\"start\" x=\"8\" y=\"-1373.3\" font-family=\"Times,serif\" font-size=\"14.00\" fill=\"#000000\">REGION_RATING_CLIENT_W_CITY : Integer</text>\n<text text-anchor=\"start\" x=\"8\" y=\"-1358.3\" font-family=\"Times,serif\" font-size=\"14.00\" fill=\"#000000\">WEEKDAY_APPR_PROCESS_START : Categorical</text>\n<text text-anchor=\"start\" x=\"8\" y=\"-1343.3\" font-family=\"Times,serif\" font-size=\"14.00\" fill=\"#000000\">HOUR_APPR_PROCESS_START : Integer</text>\n<text text-anchor=\"start\" x=\"8\" y=\"-1328.3\" font-family=\"Times,serif\" font-size=\"14.00\" fill=\"#000000\">REG_REGION_NOT_LIVE_REGION : Integer</text>\n<text text-anchor=\"start\" x=\"8\" y=\"-1313.3\" font-family=\"Times,serif\" font-size=\"14.00\" fill=\"#000000\">REG_REGION_NOT_WORK_REGION : Integer</text>\n<text text-anchor=\"start\" x=\"8\" y=\"-1298.3\" font-family=\"Times,serif\" font-size=\"14.00\" fill=\"#000000\">LIVE_REGION_NOT_WORK_REGION : Integer</text>\n<text text-anchor=\"start\" x=\"8\" y=\"-1283.3\" font-family=\"Times,serif\" font-size=\"14.00\" fill=\"#000000\">REG_CITY_NOT_LIVE_CITY : Integer</text>\n<text text-anchor=\"start\" x=\"8\" y=\"-1268.3\" font-family=\"Times,serif\" font-size=\"14.00\" fill=\"#000000\">REG_CITY_NOT_WORK_CITY : Integer</text>\n<text text-anchor=\"start\" x=\"8\" y=\"-1253.3\" font-family=\"Times,serif\" font-size=\"14.00\" fill=\"#000000\">LIVE_CITY_NOT_WORK_CITY : Integer</text>\n<text text-anchor=\"start\" x=\"8\" y=\"-1238.3\" font-family=\"Times,serif\" font-size=\"14.00\" fill=\"#000000\">ORGANIZATION_TYPE : Categorical</text>\n<text text-anchor=\"start\" x=\"8\" y=\"-1223.3\" font-family=\"Times,serif\" font-size=\"14.00\" fill=\"#000000\">EXT_SOURCE_1 : Double</text>\n<text text-anchor=\"start\" x=\"8\" y=\"-1208.3\" font-family=\"Times,serif\" font-size=\"14.00\" fill=\"#000000\">EXT_SOURCE_2 : Double</text>\n<text text-anchor=\"start\" x=\"8\" y=\"-1193.3\" font-family=\"Times,serif\" font-size=\"14.00\" fill=\"#000000\">EXT_SOURCE_3 : Double</text>\n<text text-anchor=\"start\" x=\"8\" y=\"-1178.3\" font-family=\"Times,serif\" font-size=\"14.00\" fill=\"#000000\">APARTMENTS_AVG : Double</text>\n<text text-anchor=\"start\" x=\"8\" y=\"-1163.3\" font-family=\"Times,serif\" font-size=\"14.00\" fill=\"#000000\">BASEMENTAREA_AVG : Double</text>\n<text text-anchor=\"start\" x=\"8\" y=\"-1148.3\" font-family=\"Times,serif\" font-size=\"14.00\" fill=\"#000000\">YEARS_BEGINEXPLUATATION_AVG : Double</text>\n<text text-anchor=\"start\" x=\"8\" y=\"-1133.3\" font-family=\"Times,serif\" font-size=\"14.00\" fill=\"#000000\">YEARS_BUILD_AVG : Double</text>\n<text text-anchor=\"start\" x=\"8\" y=\"-1118.3\" font-family=\"Times,serif\" font-size=\"14.00\" fill=\"#000000\">COMMONAREA_AVG : Double</text>\n<text text-anchor=\"start\" x=\"8\" y=\"-1103.3\" font-family=\"Times,serif\" font-size=\"14.00\" fill=\"#000000\">ELEVATORS_AVG : Double</text>\n<text text-anchor=\"start\" x=\"8\" y=\"-1088.3\" font-family=\"Times,serif\" font-size=\"14.00\" fill=\"#000000\">ENTRANCES_AVG : Double</text>\n<text text-anchor=\"start\" x=\"8\" y=\"-1073.3\" font-family=\"Times,serif\" font-size=\"14.00\" fill=\"#000000\">FLOORSMAX_AVG : Double</text>\n<text text-anchor=\"start\" x=\"8\" y=\"-1058.3\" font-family=\"Times,serif\" font-size=\"14.00\" fill=\"#000000\">FLOORSMIN_AVG : Double</text>\n<text text-anchor=\"start\" x=\"8\" y=\"-1043.3\" font-family=\"Times,serif\" font-size=\"14.00\" fill=\"#000000\">LANDAREA_AVG : Double</text>\n<text text-anchor=\"start\" x=\"8\" y=\"-1028.3\" font-family=\"Times,serif\" font-size=\"14.00\" fill=\"#000000\">LIVINGAPARTMENTS_AVG : Double</text>\n<text text-anchor=\"start\" x=\"8\" y=\"-1013.3\" font-family=\"Times,serif\" font-size=\"14.00\" fill=\"#000000\">LIVINGAREA_AVG : Double</text>\n<text text-anchor=\"start\" x=\"8\" y=\"-998.3\" font-family=\"Times,serif\" font-size=\"14.00\" fill=\"#000000\">NONLIVINGAPARTMENTS_AVG : Double</text>\n<text text-anchor=\"start\" x=\"8\" y=\"-983.3\" font-family=\"Times,serif\" font-size=\"14.00\" fill=\"#000000\">NONLIVINGAREA_AVG : Double</text>\n<text text-anchor=\"start\" x=\"8\" y=\"-968.3\" font-family=\"Times,serif\" font-size=\"14.00\" fill=\"#000000\">APARTMENTS_MODE : Double</text>\n<text text-anchor=\"start\" x=\"8\" y=\"-953.3\" font-family=\"Times,serif\" font-size=\"14.00\" fill=\"#000000\">BASEMENTAREA_MODE : Double</text>\n<text text-anchor=\"start\" x=\"8\" y=\"-938.3\" font-family=\"Times,serif\" font-size=\"14.00\" fill=\"#000000\">YEARS_BEGINEXPLUATATION_MODE : Double</text>\n<text text-anchor=\"start\" x=\"8\" y=\"-923.3\" font-family=\"Times,serif\" font-size=\"14.00\" fill=\"#000000\">YEARS_BUILD_MODE : Double</text>\n<text text-anchor=\"start\" x=\"8\" y=\"-908.3\" font-family=\"Times,serif\" font-size=\"14.00\" fill=\"#000000\">COMMONAREA_MODE : Double</text>\n<text text-anchor=\"start\" x=\"8\" y=\"-893.3\" font-family=\"Times,serif\" font-size=\"14.00\" fill=\"#000000\">ELEVATORS_MODE : Double</text>\n<text text-anchor=\"start\" x=\"8\" y=\"-878.3\" font-family=\"Times,serif\" font-size=\"14.00\" fill=\"#000000\">ENTRANCES_MODE : Double</text>\n<text text-anchor=\"start\" x=\"8\" y=\"-863.3\" font-family=\"Times,serif\" font-size=\"14.00\" fill=\"#000000\">FLOORSMAX_MODE : Double</text>\n<text text-anchor=\"start\" x=\"8\" y=\"-848.3\" font-family=\"Times,serif\" font-size=\"14.00\" fill=\"#000000\">FLOORSMIN_MODE : Double</text>\n<text text-anchor=\"start\" x=\"8\" y=\"-833.3\" font-family=\"Times,serif\" font-size=\"14.00\" fill=\"#000000\">LANDAREA_MODE : Double</text>\n<text text-anchor=\"start\" x=\"8\" y=\"-818.3\" font-family=\"Times,serif\" font-size=\"14.00\" fill=\"#000000\">LIVINGAPARTMENTS_MODE : Double</text>\n<text text-anchor=\"start\" x=\"8\" y=\"-803.3\" font-family=\"Times,serif\" font-size=\"14.00\" fill=\"#000000\">LIVINGAREA_MODE : Double</text>\n<text text-anchor=\"start\" x=\"8\" y=\"-788.3\" font-family=\"Times,serif\" font-size=\"14.00\" fill=\"#000000\">NONLIVINGAPARTMENTS_MODE : Double</text>\n<text text-anchor=\"start\" x=\"8\" y=\"-773.3\" font-family=\"Times,serif\" font-size=\"14.00\" fill=\"#000000\">NONLIVINGAREA_MODE : Double</text>\n<text text-anchor=\"start\" x=\"8\" y=\"-758.3\" font-family=\"Times,serif\" font-size=\"14.00\" fill=\"#000000\">APARTMENTS_MEDI : Double</text>\n<text text-anchor=\"start\" x=\"8\" y=\"-743.3\" font-family=\"Times,serif\" font-size=\"14.00\" fill=\"#000000\">BASEMENTAREA_MEDI : Double</text>\n<text text-anchor=\"start\" x=\"8\" y=\"-728.3\" font-family=\"Times,serif\" font-size=\"14.00\" fill=\"#000000\">YEARS_BEGINEXPLUATATION_MEDI : Double</text>\n<text text-anchor=\"start\" x=\"8\" y=\"-713.3\" font-family=\"Times,serif\" font-size=\"14.00\" fill=\"#000000\">YEARS_BUILD_MEDI : Double</text>\n<text text-anchor=\"start\" x=\"8\" y=\"-698.3\" font-family=\"Times,serif\" font-size=\"14.00\" fill=\"#000000\">COMMONAREA_MEDI : Double</text>\n<text text-anchor=\"start\" x=\"8\" y=\"-683.3\" font-family=\"Times,serif\" font-size=\"14.00\" fill=\"#000000\">ELEVATORS_MEDI : Double</text>\n<text text-anchor=\"start\" x=\"8\" y=\"-668.3\" font-family=\"Times,serif\" font-size=\"14.00\" fill=\"#000000\">ENTRANCES_MEDI : Double</text>\n<text text-anchor=\"start\" x=\"8\" y=\"-653.3\" font-family=\"Times,serif\" font-size=\"14.00\" fill=\"#000000\">FLOORSMAX_MEDI : Double</text>\n<text text-anchor=\"start\" x=\"8\" y=\"-638.3\" font-family=\"Times,serif\" font-size=\"14.00\" fill=\"#000000\">FLOORSMIN_MEDI : Double</text>\n<text text-anchor=\"start\" x=\"8\" y=\"-623.3\" font-family=\"Times,serif\" font-size=\"14.00\" fill=\"#000000\">LANDAREA_MEDI : Double</text>\n<text text-anchor=\"start\" x=\"8\" y=\"-608.3\" font-family=\"Times,serif\" font-size=\"14.00\" fill=\"#000000\">LIVINGAPARTMENTS_MEDI : Double</text>\n<text text-anchor=\"start\" x=\"8\" y=\"-593.3\" font-family=\"Times,serif\" font-size=\"14.00\" fill=\"#000000\">LIVINGAREA_MEDI : Double</text>\n<text text-anchor=\"start\" x=\"8\" y=\"-578.3\" font-family=\"Times,serif\" font-size=\"14.00\" fill=\"#000000\">NONLIVINGAPARTMENTS_MEDI : Double</text>\n<text text-anchor=\"start\" x=\"8\" y=\"-563.3\" font-family=\"Times,serif\" font-size=\"14.00\" fill=\"#000000\">NONLIVINGAREA_MEDI : Double</text>\n<text text-anchor=\"start\" x=\"8\" y=\"-548.3\" font-family=\"Times,serif\" font-size=\"14.00\" fill=\"#000000\">FONDKAPREMONT_MODE : Categorical</text>\n<text text-anchor=\"start\" x=\"8\" y=\"-533.3\" font-family=\"Times,serif\" font-size=\"14.00\" fill=\"#000000\">HOUSETYPE_MODE : Categorical</text>\n<text text-anchor=\"start\" x=\"8\" y=\"-518.3\" font-family=\"Times,serif\" font-size=\"14.00\" fill=\"#000000\">TOTALAREA_MODE : Double</text>\n<text text-anchor=\"start\" x=\"8\" y=\"-503.3\" font-family=\"Times,serif\" font-size=\"14.00\" fill=\"#000000\">WALLSMATERIAL_MODE : Categorical</text>\n<text text-anchor=\"start\" x=\"8\" y=\"-488.3\" font-family=\"Times,serif\" font-size=\"14.00\" fill=\"#000000\">EMERGENCYSTATE_MODE : Categorical</text>\n<text text-anchor=\"start\" x=\"8\" y=\"-473.3\" font-family=\"Times,serif\" font-size=\"14.00\" fill=\"#000000\">OBS_30_CNT_SOCIAL_CIRCLE : Double</text>\n<text text-anchor=\"start\" x=\"8\" y=\"-458.3\" font-family=\"Times,serif\" font-size=\"14.00\" fill=\"#000000\">DEF_30_CNT_SOCIAL_CIRCLE : Double</text>\n<text text-anchor=\"start\" x=\"8\" y=\"-443.3\" font-family=\"Times,serif\" font-size=\"14.00\" fill=\"#000000\">OBS_60_CNT_SOCIAL_CIRCLE : Double</text>\n<text text-anchor=\"start\" x=\"8\" y=\"-428.3\" font-family=\"Times,serif\" font-size=\"14.00\" fill=\"#000000\">DEF_60_CNT_SOCIAL_CIRCLE : Double</text>\n<text text-anchor=\"start\" x=\"8\" y=\"-413.3\" font-family=\"Times,serif\" font-size=\"14.00\" fill=\"#000000\">DAYS_LAST_PHONE_CHANGE : Double</text>\n<text text-anchor=\"start\" x=\"8\" y=\"-398.3\" font-family=\"Times,serif\" font-size=\"14.00\" fill=\"#000000\">FLAG_DOCUMENT_2 : Integer</text>\n<text text-anchor=\"start\" x=\"8\" y=\"-383.3\" font-family=\"Times,serif\" font-size=\"14.00\" fill=\"#000000\">FLAG_DOCUMENT_3 : Integer</text>\n<text text-anchor=\"start\" x=\"8\" y=\"-368.3\" font-family=\"Times,serif\" font-size=\"14.00\" fill=\"#000000\">FLAG_DOCUMENT_4 : Integer</text>\n<text text-anchor=\"start\" x=\"8\" y=\"-353.3\" font-family=\"Times,serif\" font-size=\"14.00\" fill=\"#000000\">FLAG_DOCUMENT_5 : Integer</text>\n<text text-anchor=\"start\" x=\"8\" y=\"-338.3\" font-family=\"Times,serif\" font-size=\"14.00\" fill=\"#000000\">FLAG_DOCUMENT_6 : Integer</text>\n<text text-anchor=\"start\" x=\"8\" y=\"-323.3\" font-family=\"Times,serif\" font-size=\"14.00\" fill=\"#000000\">FLAG_DOCUMENT_7 : Integer</text>\n<text text-anchor=\"start\" x=\"8\" y=\"-308.3\" font-family=\"Times,serif\" font-size=\"14.00\" fill=\"#000000\">FLAG_DOCUMENT_8 : Integer</text>\n<text text-anchor=\"start\" x=\"8\" y=\"-293.3\" font-family=\"Times,serif\" font-size=\"14.00\" fill=\"#000000\">FLAG_DOCUMENT_9 : Integer</text>\n<text text-anchor=\"start\" x=\"8\" y=\"-278.3\" font-family=\"Times,serif\" font-size=\"14.00\" fill=\"#000000\">FLAG_DOCUMENT_10 : Integer</text>\n<text text-anchor=\"start\" x=\"8\" y=\"-263.3\" font-family=\"Times,serif\" font-size=\"14.00\" fill=\"#000000\">FLAG_DOCUMENT_11 : Integer</text>\n<text text-anchor=\"start\" x=\"8\" y=\"-248.3\" font-family=\"Times,serif\" font-size=\"14.00\" fill=\"#000000\">FLAG_DOCUMENT_12 : Integer</text>\n<text text-anchor=\"start\" x=\"8\" y=\"-233.3\" font-family=\"Times,serif\" font-size=\"14.00\" fill=\"#000000\">FLAG_DOCUMENT_13 : Integer</text>\n<text text-anchor=\"start\" x=\"8\" y=\"-218.3\" font-family=\"Times,serif\" font-size=\"14.00\" fill=\"#000000\">FLAG_DOCUMENT_14 : Integer</text>\n<text text-anchor=\"start\" x=\"8\" y=\"-203.3\" font-family=\"Times,serif\" font-size=\"14.00\" fill=\"#000000\">FLAG_DOCUMENT_15 : Integer</text>\n<text text-anchor=\"start\" x=\"8\" y=\"-188.3\" font-family=\"Times,serif\" font-size=\"14.00\" fill=\"#000000\">FLAG_DOCUMENT_16 : Integer</text>\n<text text-anchor=\"start\" x=\"8\" y=\"-173.3\" font-family=\"Times,serif\" font-size=\"14.00\" fill=\"#000000\">FLAG_DOCUMENT_17 : Integer</text>\n<text text-anchor=\"start\" x=\"8\" y=\"-158.3\" font-family=\"Times,serif\" font-size=\"14.00\" fill=\"#000000\">FLAG_DOCUMENT_18 : Integer</text>\n<text text-anchor=\"start\" x=\"8\" y=\"-143.3\" font-family=\"Times,serif\" font-size=\"14.00\" fill=\"#000000\">FLAG_DOCUMENT_19 : Integer</text>\n<text text-anchor=\"start\" x=\"8\" y=\"-128.3\" font-family=\"Times,serif\" font-size=\"14.00\" fill=\"#000000\">FLAG_DOCUMENT_20 : Integer</text>\n<text text-anchor=\"start\" x=\"8\" y=\"-113.3\" font-family=\"Times,serif\" font-size=\"14.00\" fill=\"#000000\">FLAG_DOCUMENT_21 : Integer</text>\n<text text-anchor=\"start\" x=\"8\" y=\"-98.3\" font-family=\"Times,serif\" font-size=\"14.00\" fill=\"#000000\">AMT_REQ_CREDIT_BUREAU_HOUR : Double</text>\n<text text-anchor=\"start\" x=\"8\" y=\"-83.3\" font-family=\"Times,serif\" font-size=\"14.00\" fill=\"#000000\">AMT_REQ_CREDIT_BUREAU_DAY : Double</text>\n<text text-anchor=\"start\" x=\"8\" y=\"-68.3\" font-family=\"Times,serif\" font-size=\"14.00\" fill=\"#000000\">AMT_REQ_CREDIT_BUREAU_WEEK : Double</text>\n<text text-anchor=\"start\" x=\"8\" y=\"-53.3\" font-family=\"Times,serif\" font-size=\"14.00\" fill=\"#000000\">AMT_REQ_CREDIT_BUREAU_MON : Double</text>\n<text text-anchor=\"start\" x=\"8\" y=\"-38.3\" font-family=\"Times,serif\" font-size=\"14.00\" fill=\"#000000\">AMT_REQ_CREDIT_BUREAU_QRT : Double</text>\n<text text-anchor=\"start\" x=\"8\" y=\"-23.3\" font-family=\"Times,serif\" font-size=\"14.00\" fill=\"#000000\">AMT_REQ_CREDIT_BUREAU_YEAR : Double</text>\n<text text-anchor=\"start\" x=\"8\" y=\"-8.3\" font-family=\"Times,serif\" font-size=\"14.00\" fill=\"#000000\">set : Categorical</text>\n</g>\n<!-- bureau -->\n<g id=\"node2\" class=\"node\">\n<title>bureau</title>\n<polygon fill=\"none\" stroke=\"#000000\" points=\"25.5,-1913.5 25.5,-2199.5 306.5,-2199.5 306.5,-1913.5 25.5,-1913.5\"/>\n<text text-anchor=\"middle\" x=\"166\" y=\"-2184.3\" font-family=\"Times,serif\" font-size=\"14.00\" fill=\"#000000\">bureau (1716428 rows)</text>\n<polyline fill=\"none\" stroke=\"#000000\" points=\"25.5,-2176.5 306.5,-2176.5 \"/>\n<text text-anchor=\"start\" x=\"33.5\" y=\"-2161.3\" font-family=\"Times,serif\" font-size=\"14.00\" fill=\"#000000\">SK_ID_CURR : Integer; foreign_key</text>\n<text text-anchor=\"start\" x=\"33.5\" y=\"-2146.3\" font-family=\"Times,serif\" font-size=\"14.00\" fill=\"#000000\">SK_ID_BUREAU : Integer; index</text>\n<text text-anchor=\"start\" x=\"33.5\" y=\"-2131.3\" font-family=\"Times,serif\" font-size=\"14.00\" fill=\"#000000\">CREDIT_ACTIVE : Categorical</text>\n<text text-anchor=\"start\" x=\"33.5\" y=\"-2116.3\" font-family=\"Times,serif\" font-size=\"14.00\" fill=\"#000000\">CREDIT_CURRENCY : Categorical</text>\n<text text-anchor=\"start\" x=\"33.5\" y=\"-2101.3\" font-family=\"Times,serif\" font-size=\"14.00\" fill=\"#000000\">DAYS_CREDIT : Integer</text>\n<text text-anchor=\"start\" x=\"33.5\" y=\"-2086.3\" font-family=\"Times,serif\" font-size=\"14.00\" fill=\"#000000\">CREDIT_DAY_OVERDUE : Integer</text>\n<text text-anchor=\"start\" x=\"33.5\" y=\"-2071.3\" font-family=\"Times,serif\" font-size=\"14.00\" fill=\"#000000\">DAYS_CREDIT_ENDDATE : Double</text>\n<text text-anchor=\"start\" x=\"33.5\" y=\"-2056.3\" font-family=\"Times,serif\" font-size=\"14.00\" fill=\"#000000\">DAYS_ENDDATE_FACT : Double</text>\n<text text-anchor=\"start\" x=\"33.5\" y=\"-2041.3\" font-family=\"Times,serif\" font-size=\"14.00\" fill=\"#000000\">AMT_CREDIT_MAX_OVERDUE : Double</text>\n<text text-anchor=\"start\" x=\"33.5\" y=\"-2026.3\" font-family=\"Times,serif\" font-size=\"14.00\" fill=\"#000000\">CNT_CREDIT_PROLONG : Integer</text>\n<text text-anchor=\"start\" x=\"33.5\" y=\"-2011.3\" font-family=\"Times,serif\" font-size=\"14.00\" fill=\"#000000\">AMT_CREDIT_SUM : Double</text>\n<text text-anchor=\"start\" x=\"33.5\" y=\"-1996.3\" font-family=\"Times,serif\" font-size=\"14.00\" fill=\"#000000\">AMT_CREDIT_SUM_DEBT : Double</text>\n<text text-anchor=\"start\" x=\"33.5\" y=\"-1981.3\" font-family=\"Times,serif\" font-size=\"14.00\" fill=\"#000000\">AMT_CREDIT_SUM_LIMIT : Double</text>\n<text text-anchor=\"start\" x=\"33.5\" y=\"-1966.3\" font-family=\"Times,serif\" font-size=\"14.00\" fill=\"#000000\">AMT_CREDIT_SUM_OVERDUE : Double</text>\n<text text-anchor=\"start\" x=\"33.5\" y=\"-1951.3\" font-family=\"Times,serif\" font-size=\"14.00\" fill=\"#000000\">CREDIT_TYPE : Categorical</text>\n<text text-anchor=\"start\" x=\"33.5\" y=\"-1936.3\" font-family=\"Times,serif\" font-size=\"14.00\" fill=\"#000000\">DAYS_CREDIT_UPDATE : Integer</text>\n<text text-anchor=\"start\" x=\"33.5\" y=\"-1921.3\" font-family=\"Times,serif\" font-size=\"14.00\" fill=\"#000000\">AMT_ANNUITY : Double</text>\n</g>\n<!-- bureau&#45;&gt;application -->\n<g id=\"edge1\" class=\"edge\">\n<title>bureau&#45;&gt;application</title>\n<path fill=\"none\" stroke=\"#000000\" d=\"M166,-1913.4845C166,-1913.4845 166,-1886.5078 166,-1886.5078\"/>\n<polygon fill=\"#000000\" stroke=\"#000000\" points=\"169.5001,-1886.5078 166,-1876.5078 162.5001,-1886.5079 169.5001,-1886.5078\"/>\n<text text-anchor=\"middle\" x=\"121.5\" y=\"-1888.7962\" font-family=\"Times,serif\" font-size=\"14.00\" fill=\"#000000\">SK_ID_CURR</text>\n</g>\n<!-- bureau_balance -->\n<g id=\"node3\" class=\"node\">\n<title>bureau_balance</title>\n<polygon fill=\"none\" stroke=\"#000000\" points=\"39,-2236.5 39,-2327.5 293,-2327.5 293,-2236.5 39,-2236.5\"/>\n<text text-anchor=\"middle\" x=\"166\" y=\"-2312.3\" font-family=\"Times,serif\" font-size=\"14.00\" fill=\"#000000\">bureau_balance (27299925 rows)</text>\n<polyline fill=\"none\" stroke=\"#000000\" points=\"39,-2304.5 293,-2304.5 \"/>\n<text text-anchor=\"start\" x=\"47\" y=\"-2289.3\" font-family=\"Times,serif\" font-size=\"14.00\" fill=\"#000000\">bureaubalance_index : Integer; index</text>\n<text text-anchor=\"start\" x=\"47\" y=\"-2274.3\" font-family=\"Times,serif\" font-size=\"14.00\" fill=\"#000000\">SK_ID_BUREAU : Integer; foreign_key</text>\n<text text-anchor=\"start\" x=\"47\" y=\"-2259.3\" font-family=\"Times,serif\" font-size=\"14.00\" fill=\"#000000\">MONTHS_BALANCE : Integer</text>\n<text text-anchor=\"start\" x=\"47\" y=\"-2244.3\" font-family=\"Times,serif\" font-size=\"14.00\" fill=\"#000000\">STATUS : Categorical</text>\n</g>\n<!-- bureau_balance&#45;&gt;bureau -->\n<g id=\"edge2\" class=\"edge\">\n<title>bureau_balance&#45;&gt;bureau</title>\n<path fill=\"none\" stroke=\"#000000\" d=\"M166,-2236.3667C166,-2236.3667 166,-2209.8616 166,-2209.8616\"/>\n<polygon fill=\"#000000\" stroke=\"#000000\" points=\"169.5001,-2209.8616 166,-2199.8616 162.5001,-2209.8617 169.5001,-2209.8616\"/>\n<text text-anchor=\"middle\" x=\"111.5\" y=\"-2211.9142\" font-family=\"Times,serif\" font-size=\"14.00\" fill=\"#000000\">SK_ID_BUREAU</text>\n</g>\n</g>\n</svg>\n"
          },
          "metadata": {},
          "execution_count": 10
        }
      ],
      "source": [
        "es.plot()"
      ]
    },
    {
      "cell_type": "markdown",
      "metadata": {
        "id": "DvvXHDjbKT0Q"
      },
      "source": [
        "## Feature Primitives"
      ]
    },
    {
      "cell_type": "code",
      "execution_count": null,
      "metadata": {
        "id": "OHTfMmyrKT0R",
        "outputId": "adce612f-6e40-41c4-ecac-2026bee235f3",
        "colab": {
          "base_uri": "https://localhost:8080/",
          "height": 546
        }
      },
      "outputs": [
        {
          "output_type": "execute_result",
          "data": {
            "text/plain": [
              "               name         type  dask_compatible  spark_compatible  \\\n",
              "0               all  aggregation             True             False   \n",
              "1               sum  aggregation             True              True   \n",
              "2              last  aggregation            False             False   \n",
              "3               std  aggregation             True              True   \n",
              "4            median  aggregation            False             False   \n",
              "5  avg_time_between  aggregation            False             False   \n",
              "6      percent_true  aggregation             True             False   \n",
              "7        num_unique  aggregation             True              True   \n",
              "8               min  aggregation             True              True   \n",
              "9             trend  aggregation            False             False   \n",
              "\n",
              "                                                           description  \\\n",
              "0                       Calculates if all values are 'True' in a list.   \n",
              "1                       Calculates the total addition, ignoring `NaN`.   \n",
              "2                                 Determines the last value in a list.   \n",
              "3  Computes the dispersion relative to the mean value, ignoring `NaN`.   \n",
              "4                Determines the middlemost number in a list of values.   \n",
              "5   Computes the average number of seconds between consecutive events.   \n",
              "6                             Determines the percent of `True` values.   \n",
              "7     Determines the number of distinct values, ignoring `NaN` values.   \n",
              "8                Calculates the smallest value, ignoring `NaN` values.   \n",
              "9                          Calculates the trend of a column over time.   \n",
              "\n",
              "                                                                                          valid_inputs  \\\n",
              "0             <ColumnSchema (Logical Type = Boolean)>, <ColumnSchema (Logical Type = BooleanNullable)>   \n",
              "1                                                         <ColumnSchema (Semantic Tags = ['numeric'])>   \n",
              "2                                                                                       <ColumnSchema>   \n",
              "3                                                         <ColumnSchema (Semantic Tags = ['numeric'])>   \n",
              "4                                                         <ColumnSchema (Semantic Tags = ['numeric'])>   \n",
              "5                            <ColumnSchema (Logical Type = Datetime) (Semantic Tags = ['time_index'])>   \n",
              "6             <ColumnSchema (Logical Type = Boolean)>, <ColumnSchema (Logical Type = BooleanNullable)>   \n",
              "7                                                        <ColumnSchema (Semantic Tags = ['category'])>   \n",
              "8                                                         <ColumnSchema (Semantic Tags = ['numeric'])>   \n",
              "9  <ColumnSchema (Semantic Tags = ['numeric'])>, <ColumnSchema (Logical Type = Datetime) (Semantic ...   \n",
              "\n",
              "  return_type  \n",
              "0        None  \n",
              "1        None  \n",
              "2        None  \n",
              "3        None  \n",
              "4        None  \n",
              "5        None  \n",
              "6        None  \n",
              "7        None  \n",
              "8        None  \n",
              "9        None  "
            ],
            "text/html": [
              "\n",
              "  <div id=\"df-43a955fa-8aee-4adb-badc-499f784fb2a1\">\n",
              "    <div class=\"colab-df-container\">\n",
              "      <div>\n",
              "<style scoped>\n",
              "    .dataframe tbody tr th:only-of-type {\n",
              "        vertical-align: middle;\n",
              "    }\n",
              "\n",
              "    .dataframe tbody tr th {\n",
              "        vertical-align: top;\n",
              "    }\n",
              "\n",
              "    .dataframe thead th {\n",
              "        text-align: right;\n",
              "    }\n",
              "</style>\n",
              "<table border=\"1\" class=\"dataframe\">\n",
              "  <thead>\n",
              "    <tr style=\"text-align: right;\">\n",
              "      <th></th>\n",
              "      <th>name</th>\n",
              "      <th>type</th>\n",
              "      <th>dask_compatible</th>\n",
              "      <th>spark_compatible</th>\n",
              "      <th>description</th>\n",
              "      <th>valid_inputs</th>\n",
              "      <th>return_type</th>\n",
              "    </tr>\n",
              "  </thead>\n",
              "  <tbody>\n",
              "    <tr>\n",
              "      <th>0</th>\n",
              "      <td>all</td>\n",
              "      <td>aggregation</td>\n",
              "      <td>True</td>\n",
              "      <td>False</td>\n",
              "      <td>Calculates if all values are 'True' in a list.</td>\n",
              "      <td>&lt;ColumnSchema (Logical Type = Boolean)&gt;, &lt;ColumnSchema (Logical Type = BooleanNullable)&gt;</td>\n",
              "      <td>None</td>\n",
              "    </tr>\n",
              "    <tr>\n",
              "      <th>1</th>\n",
              "      <td>sum</td>\n",
              "      <td>aggregation</td>\n",
              "      <td>True</td>\n",
              "      <td>True</td>\n",
              "      <td>Calculates the total addition, ignoring `NaN`.</td>\n",
              "      <td>&lt;ColumnSchema (Semantic Tags = ['numeric'])&gt;</td>\n",
              "      <td>None</td>\n",
              "    </tr>\n",
              "    <tr>\n",
              "      <th>2</th>\n",
              "      <td>last</td>\n",
              "      <td>aggregation</td>\n",
              "      <td>False</td>\n",
              "      <td>False</td>\n",
              "      <td>Determines the last value in a list.</td>\n",
              "      <td>&lt;ColumnSchema&gt;</td>\n",
              "      <td>None</td>\n",
              "    </tr>\n",
              "    <tr>\n",
              "      <th>3</th>\n",
              "      <td>std</td>\n",
              "      <td>aggregation</td>\n",
              "      <td>True</td>\n",
              "      <td>True</td>\n",
              "      <td>Computes the dispersion relative to the mean value, ignoring `NaN`.</td>\n",
              "      <td>&lt;ColumnSchema (Semantic Tags = ['numeric'])&gt;</td>\n",
              "      <td>None</td>\n",
              "    </tr>\n",
              "    <tr>\n",
              "      <th>4</th>\n",
              "      <td>median</td>\n",
              "      <td>aggregation</td>\n",
              "      <td>False</td>\n",
              "      <td>False</td>\n",
              "      <td>Determines the middlemost number in a list of values.</td>\n",
              "      <td>&lt;ColumnSchema (Semantic Tags = ['numeric'])&gt;</td>\n",
              "      <td>None</td>\n",
              "    </tr>\n",
              "    <tr>\n",
              "      <th>5</th>\n",
              "      <td>avg_time_between</td>\n",
              "      <td>aggregation</td>\n",
              "      <td>False</td>\n",
              "      <td>False</td>\n",
              "      <td>Computes the average number of seconds between consecutive events.</td>\n",
              "      <td>&lt;ColumnSchema (Logical Type = Datetime) (Semantic Tags = ['time_index'])&gt;</td>\n",
              "      <td>None</td>\n",
              "    </tr>\n",
              "    <tr>\n",
              "      <th>6</th>\n",
              "      <td>percent_true</td>\n",
              "      <td>aggregation</td>\n",
              "      <td>True</td>\n",
              "      <td>False</td>\n",
              "      <td>Determines the percent of `True` values.</td>\n",
              "      <td>&lt;ColumnSchema (Logical Type = Boolean)&gt;, &lt;ColumnSchema (Logical Type = BooleanNullable)&gt;</td>\n",
              "      <td>None</td>\n",
              "    </tr>\n",
              "    <tr>\n",
              "      <th>7</th>\n",
              "      <td>num_unique</td>\n",
              "      <td>aggregation</td>\n",
              "      <td>True</td>\n",
              "      <td>True</td>\n",
              "      <td>Determines the number of distinct values, ignoring `NaN` values.</td>\n",
              "      <td>&lt;ColumnSchema (Semantic Tags = ['category'])&gt;</td>\n",
              "      <td>None</td>\n",
              "    </tr>\n",
              "    <tr>\n",
              "      <th>8</th>\n",
              "      <td>min</td>\n",
              "      <td>aggregation</td>\n",
              "      <td>True</td>\n",
              "      <td>True</td>\n",
              "      <td>Calculates the smallest value, ignoring `NaN` values.</td>\n",
              "      <td>&lt;ColumnSchema (Semantic Tags = ['numeric'])&gt;</td>\n",
              "      <td>None</td>\n",
              "    </tr>\n",
              "    <tr>\n",
              "      <th>9</th>\n",
              "      <td>trend</td>\n",
              "      <td>aggregation</td>\n",
              "      <td>False</td>\n",
              "      <td>False</td>\n",
              "      <td>Calculates the trend of a column over time.</td>\n",
              "      <td>&lt;ColumnSchema (Semantic Tags = ['numeric'])&gt;, &lt;ColumnSchema (Logical Type = Datetime) (Semantic ...</td>\n",
              "      <td>None</td>\n",
              "    </tr>\n",
              "  </tbody>\n",
              "</table>\n",
              "</div>\n",
              "      <button class=\"colab-df-convert\" onclick=\"convertToInteractive('df-43a955fa-8aee-4adb-badc-499f784fb2a1')\"\n",
              "              title=\"Convert this dataframe to an interactive table.\"\n",
              "              style=\"display:none;\">\n",
              "        \n",
              "  <svg xmlns=\"http://www.w3.org/2000/svg\" height=\"24px\"viewBox=\"0 0 24 24\"\n",
              "       width=\"24px\">\n",
              "    <path d=\"M0 0h24v24H0V0z\" fill=\"none\"/>\n",
              "    <path d=\"M18.56 5.44l.94 2.06.94-2.06 2.06-.94-2.06-.94-.94-2.06-.94 2.06-2.06.94zm-11 1L8.5 8.5l.94-2.06 2.06-.94-2.06-.94L8.5 2.5l-.94 2.06-2.06.94zm10 10l.94 2.06.94-2.06 2.06-.94-2.06-.94-.94-2.06-.94 2.06-2.06.94z\"/><path d=\"M17.41 7.96l-1.37-1.37c-.4-.4-.92-.59-1.43-.59-.52 0-1.04.2-1.43.59L10.3 9.45l-7.72 7.72c-.78.78-.78 2.05 0 2.83L4 21.41c.39.39.9.59 1.41.59.51 0 1.02-.2 1.41-.59l7.78-7.78 2.81-2.81c.8-.78.8-2.07 0-2.86zM5.41 20L4 18.59l7.72-7.72 1.47 1.35L5.41 20z\"/>\n",
              "  </svg>\n",
              "      </button>\n",
              "      \n",
              "  <style>\n",
              "    .colab-df-container {\n",
              "      display:flex;\n",
              "      flex-wrap:wrap;\n",
              "      gap: 12px;\n",
              "    }\n",
              "\n",
              "    .colab-df-convert {\n",
              "      background-color: #E8F0FE;\n",
              "      border: none;\n",
              "      border-radius: 50%;\n",
              "      cursor: pointer;\n",
              "      display: none;\n",
              "      fill: #1967D2;\n",
              "      height: 32px;\n",
              "      padding: 0 0 0 0;\n",
              "      width: 32px;\n",
              "    }\n",
              "\n",
              "    .colab-df-convert:hover {\n",
              "      background-color: #E2EBFA;\n",
              "      box-shadow: 0px 1px 2px rgba(60, 64, 67, 0.3), 0px 1px 3px 1px rgba(60, 64, 67, 0.15);\n",
              "      fill: #174EA6;\n",
              "    }\n",
              "\n",
              "    [theme=dark] .colab-df-convert {\n",
              "      background-color: #3B4455;\n",
              "      fill: #D2E3FC;\n",
              "    }\n",
              "\n",
              "    [theme=dark] .colab-df-convert:hover {\n",
              "      background-color: #434B5C;\n",
              "      box-shadow: 0px 1px 3px 1px rgba(0, 0, 0, 0.15);\n",
              "      filter: drop-shadow(0px 1px 2px rgba(0, 0, 0, 0.3));\n",
              "      fill: #FFFFFF;\n",
              "    }\n",
              "  </style>\n",
              "\n",
              "      <script>\n",
              "        const buttonEl =\n",
              "          document.querySelector('#df-43a955fa-8aee-4adb-badc-499f784fb2a1 button.colab-df-convert');\n",
              "        buttonEl.style.display =\n",
              "          google.colab.kernel.accessAllowed ? 'block' : 'none';\n",
              "\n",
              "        async function convertToInteractive(key) {\n",
              "          const element = document.querySelector('#df-43a955fa-8aee-4adb-badc-499f784fb2a1');\n",
              "          const dataTable =\n",
              "            await google.colab.kernel.invokeFunction('convertToInteractive',\n",
              "                                                     [key], {});\n",
              "          if (!dataTable) return;\n",
              "\n",
              "          const docLinkHtml = 'Like what you see? Visit the ' +\n",
              "            '<a target=\"_blank\" href=https://colab.research.google.com/notebooks/data_table.ipynb>data table notebook</a>'\n",
              "            + ' to learn more about interactive tables.';\n",
              "          element.innerHTML = '';\n",
              "          dataTable['output_type'] = 'display_data';\n",
              "          await google.colab.output.renderOutput(dataTable, element);\n",
              "          const docLink = document.createElement('div');\n",
              "          docLink.innerHTML = docLinkHtml;\n",
              "          element.appendChild(docLink);\n",
              "        }\n",
              "      </script>\n",
              "    </div>\n",
              "  </div>\n",
              "  "
            ]
          },
          "metadata": {},
          "execution_count": 11
        }
      ],
      "source": [
        "# List the primitives in a dataframe\n",
        "primitives = ft.list_primitives()\n",
        "pd.options.display.max_colwidth = 100\n",
        "primitives[primitives['type'] == 'aggregation'].head(10)"
      ]
    },
    {
      "cell_type": "code",
      "execution_count": null,
      "metadata": {
        "id": "GH2R5jj6KT0R",
        "outputId": "1ff3c7d7-7d6f-44c0-f31c-c1a0e2bf1b6c",
        "colab": {
          "base_uri": "https://localhost:8080/",
          "height": 494
        }
      },
      "outputs": [
        {
          "output_type": "execute_result",
          "data": {
            "text/plain": [
              "                     name       type  dask_compatible  spark_compatible  \\\n",
              "22            add_numeric  transform             True              True   \n",
              "23              cum_count  transform            False             False   \n",
              "24            numeric_lag  transform            False             False   \n",
              "25            square_root  transform             True              True   \n",
              "26                weekday  transform             True              True   \n",
              "27  divide_numeric_scalar  transform             True              True   \n",
              "28             is_weekend  transform             True              True   \n",
              "29              less_than  transform             True              True   \n",
              "30              longitude  transform            False             False   \n",
              "31                 negate  transform             True              True   \n",
              "\n",
              "                                                     description  \\\n",
              "22                           Element-wise addition of two lists.   \n",
              "23                              Calculates the cumulative count.   \n",
              "24   Shifts an array of values by a specified number of periods.   \n",
              "25                         Computes the square root of a number.   \n",
              "26               Determines the day of the week from a datetime.   \n",
              "27                  Divide each element in the list by a scalar.   \n",
              "28                      Determines if a date falls on a weekend.   \n",
              "29  Determines if values in one list are less than another list.   \n",
              "30   Returns the second tuple value in a list of LatLong tuples.   \n",
              "31                                      Negates a numeric value.   \n",
              "\n",
              "                                                                                           valid_inputs  \\\n",
              "22                                                         <ColumnSchema (Semantic Tags = ['numeric'])>   \n",
              "23      <ColumnSchema (Semantic Tags = ['foreign_key'])>, <ColumnSchema (Semantic Tags = ['category'])>   \n",
              "24        <ColumnSchema (Semantic Tags = ['time_index'])>, <ColumnSchema (Semantic Tags = ['numeric'])>   \n",
              "25                                                         <ColumnSchema (Semantic Tags = ['numeric'])>   \n",
              "26                                                             <ColumnSchema (Logical Type = Datetime)>   \n",
              "27                                                         <ColumnSchema (Semantic Tags = ['numeric'])>   \n",
              "28                                                             <ColumnSchema (Logical Type = Datetime)>   \n",
              "29  <ColumnSchema (Semantic Tags = ['numeric'])>, <ColumnSchema (Logical Type = Ordinal)>, <ColumnSc...   \n",
              "30                                                              <ColumnSchema (Logical Type = LatLong)>   \n",
              "31                                                         <ColumnSchema (Semantic Tags = ['numeric'])>   \n",
              "\n",
              "   return_type  \n",
              "22        None  \n",
              "23        None  \n",
              "24        None  \n",
              "25        None  \n",
              "26        None  \n",
              "27        None  \n",
              "28        None  \n",
              "29        None  \n",
              "30        None  \n",
              "31        None  "
            ],
            "text/html": [
              "\n",
              "  <div id=\"df-08c7c860-3925-4621-b044-afcde685be54\">\n",
              "    <div class=\"colab-df-container\">\n",
              "      <div>\n",
              "<style scoped>\n",
              "    .dataframe tbody tr th:only-of-type {\n",
              "        vertical-align: middle;\n",
              "    }\n",
              "\n",
              "    .dataframe tbody tr th {\n",
              "        vertical-align: top;\n",
              "    }\n",
              "\n",
              "    .dataframe thead th {\n",
              "        text-align: right;\n",
              "    }\n",
              "</style>\n",
              "<table border=\"1\" class=\"dataframe\">\n",
              "  <thead>\n",
              "    <tr style=\"text-align: right;\">\n",
              "      <th></th>\n",
              "      <th>name</th>\n",
              "      <th>type</th>\n",
              "      <th>dask_compatible</th>\n",
              "      <th>spark_compatible</th>\n",
              "      <th>description</th>\n",
              "      <th>valid_inputs</th>\n",
              "      <th>return_type</th>\n",
              "    </tr>\n",
              "  </thead>\n",
              "  <tbody>\n",
              "    <tr>\n",
              "      <th>22</th>\n",
              "      <td>add_numeric</td>\n",
              "      <td>transform</td>\n",
              "      <td>True</td>\n",
              "      <td>True</td>\n",
              "      <td>Element-wise addition of two lists.</td>\n",
              "      <td>&lt;ColumnSchema (Semantic Tags = ['numeric'])&gt;</td>\n",
              "      <td>None</td>\n",
              "    </tr>\n",
              "    <tr>\n",
              "      <th>23</th>\n",
              "      <td>cum_count</td>\n",
              "      <td>transform</td>\n",
              "      <td>False</td>\n",
              "      <td>False</td>\n",
              "      <td>Calculates the cumulative count.</td>\n",
              "      <td>&lt;ColumnSchema (Semantic Tags = ['foreign_key'])&gt;, &lt;ColumnSchema (Semantic Tags = ['category'])&gt;</td>\n",
              "      <td>None</td>\n",
              "    </tr>\n",
              "    <tr>\n",
              "      <th>24</th>\n",
              "      <td>numeric_lag</td>\n",
              "      <td>transform</td>\n",
              "      <td>False</td>\n",
              "      <td>False</td>\n",
              "      <td>Shifts an array of values by a specified number of periods.</td>\n",
              "      <td>&lt;ColumnSchema (Semantic Tags = ['time_index'])&gt;, &lt;ColumnSchema (Semantic Tags = ['numeric'])&gt;</td>\n",
              "      <td>None</td>\n",
              "    </tr>\n",
              "    <tr>\n",
              "      <th>25</th>\n",
              "      <td>square_root</td>\n",
              "      <td>transform</td>\n",
              "      <td>True</td>\n",
              "      <td>True</td>\n",
              "      <td>Computes the square root of a number.</td>\n",
              "      <td>&lt;ColumnSchema (Semantic Tags = ['numeric'])&gt;</td>\n",
              "      <td>None</td>\n",
              "    </tr>\n",
              "    <tr>\n",
              "      <th>26</th>\n",
              "      <td>weekday</td>\n",
              "      <td>transform</td>\n",
              "      <td>True</td>\n",
              "      <td>True</td>\n",
              "      <td>Determines the day of the week from a datetime.</td>\n",
              "      <td>&lt;ColumnSchema (Logical Type = Datetime)&gt;</td>\n",
              "      <td>None</td>\n",
              "    </tr>\n",
              "    <tr>\n",
              "      <th>27</th>\n",
              "      <td>divide_numeric_scalar</td>\n",
              "      <td>transform</td>\n",
              "      <td>True</td>\n",
              "      <td>True</td>\n",
              "      <td>Divide each element in the list by a scalar.</td>\n",
              "      <td>&lt;ColumnSchema (Semantic Tags = ['numeric'])&gt;</td>\n",
              "      <td>None</td>\n",
              "    </tr>\n",
              "    <tr>\n",
              "      <th>28</th>\n",
              "      <td>is_weekend</td>\n",
              "      <td>transform</td>\n",
              "      <td>True</td>\n",
              "      <td>True</td>\n",
              "      <td>Determines if a date falls on a weekend.</td>\n",
              "      <td>&lt;ColumnSchema (Logical Type = Datetime)&gt;</td>\n",
              "      <td>None</td>\n",
              "    </tr>\n",
              "    <tr>\n",
              "      <th>29</th>\n",
              "      <td>less_than</td>\n",
              "      <td>transform</td>\n",
              "      <td>True</td>\n",
              "      <td>True</td>\n",
              "      <td>Determines if values in one list are less than another list.</td>\n",
              "      <td>&lt;ColumnSchema (Semantic Tags = ['numeric'])&gt;, &lt;ColumnSchema (Logical Type = Ordinal)&gt;, &lt;ColumnSc...</td>\n",
              "      <td>None</td>\n",
              "    </tr>\n",
              "    <tr>\n",
              "      <th>30</th>\n",
              "      <td>longitude</td>\n",
              "      <td>transform</td>\n",
              "      <td>False</td>\n",
              "      <td>False</td>\n",
              "      <td>Returns the second tuple value in a list of LatLong tuples.</td>\n",
              "      <td>&lt;ColumnSchema (Logical Type = LatLong)&gt;</td>\n",
              "      <td>None</td>\n",
              "    </tr>\n",
              "    <tr>\n",
              "      <th>31</th>\n",
              "      <td>negate</td>\n",
              "      <td>transform</td>\n",
              "      <td>True</td>\n",
              "      <td>True</td>\n",
              "      <td>Negates a numeric value.</td>\n",
              "      <td>&lt;ColumnSchema (Semantic Tags = ['numeric'])&gt;</td>\n",
              "      <td>None</td>\n",
              "    </tr>\n",
              "  </tbody>\n",
              "</table>\n",
              "</div>\n",
              "      <button class=\"colab-df-convert\" onclick=\"convertToInteractive('df-08c7c860-3925-4621-b044-afcde685be54')\"\n",
              "              title=\"Convert this dataframe to an interactive table.\"\n",
              "              style=\"display:none;\">\n",
              "        \n",
              "  <svg xmlns=\"http://www.w3.org/2000/svg\" height=\"24px\"viewBox=\"0 0 24 24\"\n",
              "       width=\"24px\">\n",
              "    <path d=\"M0 0h24v24H0V0z\" fill=\"none\"/>\n",
              "    <path d=\"M18.56 5.44l.94 2.06.94-2.06 2.06-.94-2.06-.94-.94-2.06-.94 2.06-2.06.94zm-11 1L8.5 8.5l.94-2.06 2.06-.94-2.06-.94L8.5 2.5l-.94 2.06-2.06.94zm10 10l.94 2.06.94-2.06 2.06-.94-2.06-.94-.94-2.06-.94 2.06-2.06.94z\"/><path d=\"M17.41 7.96l-1.37-1.37c-.4-.4-.92-.59-1.43-.59-.52 0-1.04.2-1.43.59L10.3 9.45l-7.72 7.72c-.78.78-.78 2.05 0 2.83L4 21.41c.39.39.9.59 1.41.59.51 0 1.02-.2 1.41-.59l7.78-7.78 2.81-2.81c.8-.78.8-2.07 0-2.86zM5.41 20L4 18.59l7.72-7.72 1.47 1.35L5.41 20z\"/>\n",
              "  </svg>\n",
              "      </button>\n",
              "      \n",
              "  <style>\n",
              "    .colab-df-container {\n",
              "      display:flex;\n",
              "      flex-wrap:wrap;\n",
              "      gap: 12px;\n",
              "    }\n",
              "\n",
              "    .colab-df-convert {\n",
              "      background-color: #E8F0FE;\n",
              "      border: none;\n",
              "      border-radius: 50%;\n",
              "      cursor: pointer;\n",
              "      display: none;\n",
              "      fill: #1967D2;\n",
              "      height: 32px;\n",
              "      padding: 0 0 0 0;\n",
              "      width: 32px;\n",
              "    }\n",
              "\n",
              "    .colab-df-convert:hover {\n",
              "      background-color: #E2EBFA;\n",
              "      box-shadow: 0px 1px 2px rgba(60, 64, 67, 0.3), 0px 1px 3px 1px rgba(60, 64, 67, 0.15);\n",
              "      fill: #174EA6;\n",
              "    }\n",
              "\n",
              "    [theme=dark] .colab-df-convert {\n",
              "      background-color: #3B4455;\n",
              "      fill: #D2E3FC;\n",
              "    }\n",
              "\n",
              "    [theme=dark] .colab-df-convert:hover {\n",
              "      background-color: #434B5C;\n",
              "      box-shadow: 0px 1px 3px 1px rgba(0, 0, 0, 0.15);\n",
              "      filter: drop-shadow(0px 1px 2px rgba(0, 0, 0, 0.3));\n",
              "      fill: #FFFFFF;\n",
              "    }\n",
              "  </style>\n",
              "\n",
              "      <script>\n",
              "        const buttonEl =\n",
              "          document.querySelector('#df-08c7c860-3925-4621-b044-afcde685be54 button.colab-df-convert');\n",
              "        buttonEl.style.display =\n",
              "          google.colab.kernel.accessAllowed ? 'block' : 'none';\n",
              "\n",
              "        async function convertToInteractive(key) {\n",
              "          const element = document.querySelector('#df-08c7c860-3925-4621-b044-afcde685be54');\n",
              "          const dataTable =\n",
              "            await google.colab.kernel.invokeFunction('convertToInteractive',\n",
              "                                                     [key], {});\n",
              "          if (!dataTable) return;\n",
              "\n",
              "          const docLinkHtml = 'Like what you see? Visit the ' +\n",
              "            '<a target=\"_blank\" href=https://colab.research.google.com/notebooks/data_table.ipynb>data table notebook</a>'\n",
              "            + ' to learn more about interactive tables.';\n",
              "          element.innerHTML = '';\n",
              "          dataTable['output_type'] = 'display_data';\n",
              "          await google.colab.output.renderOutput(dataTable, element);\n",
              "          const docLink = document.createElement('div');\n",
              "          docLink.innerHTML = docLinkHtml;\n",
              "          element.appendChild(docLink);\n",
              "        }\n",
              "      </script>\n",
              "    </div>\n",
              "  </div>\n",
              "  "
            ]
          },
          "metadata": {},
          "execution_count": 12
        }
      ],
      "source": [
        "primitives[primitives['type'] == 'transform'].head(10)"
      ]
    },
    {
      "cell_type": "code",
      "execution_count": null,
      "metadata": {
        "id": "wse21xcOKT0S"
      },
      "outputs": [],
      "source": [
        "# agg_functions = ['count', 'sum', 'mode', 'max', 'min', 'median', 'std', 'skew']\n",
        "agg_functions = ['count', 'sum', 'mode', 'max', 'min', 'median', 'std']"
      ]
    },
    {
      "cell_type": "code",
      "execution_count": null,
      "metadata": {
        "id": "z8OvTcJ3KT0S",
        "outputId": "23eb278a-bbcc-47dd-f78b-8298c83b7706",
        "colab": {
          "base_uri": "https://localhost:8080/"
        }
      },
      "outputs": [
        {
          "output_type": "stream",
          "name": "stdout",
          "text": [
            "Built 281 features\n",
            "Elapsed: 00:00 | Progress:   0%|          "
          ]
        }
      ],
      "source": [
        "feature_matrix, feature_defs = ft.dfs(\n",
        "    entityset=es,\n",
        "    n_jobs=-1,\n",
        "    target_dataframe_name=\"application\",\n",
        "    agg_primitives=agg_functions,\n",
        "    ignore_columns={\n",
        "        'application': ['SK_ID_CURR', 'TARGET'],\n",
        "        'bureau': ['SK_ID_CURR'],\n",
        "        'bureau_balance': ['SK_ID_CURR']\n",
        "    },\n",
        "    verbose=3,\n",
        "    where_primitives=['mean'] \n",
        ")"
      ]
    },
    {
      "cell_type": "code",
      "execution_count": null,
      "metadata": {
        "id": "gqaIcm45KT0T"
      },
      "outputs": [],
      "source": [
        "feature_matrix.head()"
      ]
    },
    {
      "cell_type": "code",
      "execution_count": null,
      "metadata": {
        "id": "pG8znTbWKT0T"
      },
      "outputs": [],
      "source": [
        "train_ft = feature_matrix.loc[feature_matrix['set'] == 'train', :].reset_index().drop('set', axis=1)\n",
        "test_ft = feature_matrix.loc[feature_matrix['set'] == 'test', :].reset_index().drop('set', axis=1)\n",
        "train_ft['TARGET'] = train['TARGET']"
      ]
    },
    {
      "cell_type": "markdown",
      "metadata": {
        "id": "_nTZIU7eKT0U"
      },
      "source": [
        "## Modelling"
      ]
    },
    {
      "cell_type": "code",
      "execution_count": null,
      "metadata": {
        "id": "LkPfKryDKT0U"
      },
      "outputs": [],
      "source": [
        "import pandas as pd\n",
        "\n",
        "from lightgbm import LGBMClassifier\n",
        "\n",
        "from sklearn.model_selection import KFold, train_test_split, cross_val_score\n",
        "from sklearn.metrics import roc_auc_score\n",
        "from sklearn.preprocessing import OrdinalEncoder\n",
        "from sklearn.pipeline import Pipeline\n",
        "from sklearn.impute import SimpleImputer\n",
        "from category_encoders import OneHotEncoder\n",
        "from sklearn.compose import ColumnTransformer\n",
        "\n",
        "import matplotlib.pyplot as plt"
      ]
    },
    {
      "cell_type": "code",
      "execution_count": null,
      "metadata": {
        "id": "zdtd88_pKT0V"
      },
      "outputs": [],
      "source": [
        "def plot_feature_importances(columns, importances, top=15):\n",
        "\n",
        "    df = pd.DataFrame({\n",
        "        'feature': columns,\n",
        "        'importance': importances\n",
        "    })\n",
        "    \n",
        "    # Sort features according to importance\n",
        "    df = df.sort_values('importance', ascending = False).reset_index()\n",
        "    \n",
        "    # Normalize the feature importances to add up to one\n",
        "    df['importance_normalized'] = df['importance'] / df['importance'].sum()\n",
        "\n",
        "    # Make a horizontal bar chart of feature importances\n",
        "    plt.figure(figsize = (10, 6))\n",
        "    ax = plt.subplot()\n",
        "    \n",
        "    # Need to reverse the index to plot most important on top\n",
        "    ax.barh(list(reversed(list(df.index[:top]))), \n",
        "            df['importance_normalized'].head(top), \n",
        "            align = 'center', edgecolor = 'k')\n",
        "    \n",
        "    # Set the yticks and labels\n",
        "    ax.set_yticks(list(reversed(list(df.index[:top]))))\n",
        "    ax.set_yticklabels(df['feature'].head(top))\n",
        "    \n",
        "    # Plot labeling\n",
        "    plt.xlabel('Normalized Importance'); plt.title('Feature Importances')\n",
        "    plt.show()\n",
        "    \n",
        "    return df"
      ]
    },
    {
      "cell_type": "code",
      "execution_count": null,
      "metadata": {
        "id": "3ZM16vRvKT0W"
      },
      "outputs": [],
      "source": [
        "common_cols = ['SK_ID_CURR'] + list(set(train_ft.columns).intersection(set(test_ft.columns)))\n",
        "test_ft = test_ft[common_cols]"
      ]
    },
    {
      "cell_type": "code",
      "execution_count": null,
      "metadata": {
        "id": "aGBgYHuTKT0W"
      },
      "outputs": [],
      "source": [
        "X = train_ft.drop(['SK_ID_CURR', 'TARGET'], axis=1)\n",
        "y = train_ft['TARGET']"
      ]
    },
    {
      "cell_type": "code",
      "execution_count": null,
      "metadata": {
        "id": "oUjwV4tfKT0X"
      },
      "outputs": [],
      "source": [
        "X_train, X_val, y_train, y_val = train_test_split(X, y, test_size=.25, stratify=y, random_state=42)\n",
        "\n",
        "print(X_train.shape)\n",
        "print(X_val.shape)\n",
        "print(y_train.shape)\n",
        "print(y_val.shape)\n"
      ]
    },
    {
      "cell_type": "code",
      "execution_count": null,
      "metadata": {
        "id": "gGcl3hLdKT0X"
      },
      "outputs": [],
      "source": [
        "num_transformer = Pipeline(steps=[\n",
        "    ('imputer', SimpleImputer(strategy='median'))\n",
        "])\n",
        "\n",
        "cat_transformer = Pipeline(steps=[\n",
        "    ('imputer', SimpleImputer(strategy='constant', fill_value='MISSING')),\n",
        "    ('encoder', OrdinalEncoder())\n",
        "])\n",
        "\n",
        "preprocessor = ColumnTransformer(transformers=[\n",
        "    ('numerical', num_transformer, X_train.select_dtypes('number').columns.tolist()),\n",
        "    ('categorical', cat_transformer, X_train.select_dtypes('object').columns.tolist())\n",
        "])\n",
        "\n",
        "model = Pipeline(steps=[\n",
        "    ('preprocessor', preprocessor),\n",
        "    ('model', LGBMClassifier(random_state=42, n_jobs=-1))\n",
        "])"
      ]
    },
    {
      "cell_type": "code",
      "execution_count": null,
      "metadata": {
        "id": "7kjvIwKGKT0X"
      },
      "outputs": [],
      "source": [
        "model.fit(X_train, y_train)"
      ]
    },
    {
      "cell_type": "code",
      "execution_count": null,
      "metadata": {
        "id": "woQDOH7_KT0Y"
      },
      "outputs": [],
      "source": [
        "print('ROC AUC Train FE', roc_auc_score(y_train, model.predict_proba(X_train)[:, 1]))\n",
        "print('ROC AUC Validation FE', roc_auc_score(y_val, model.predict_proba(X_val)[:, 1]))"
      ]
    },
    {
      "cell_type": "code",
      "execution_count": null,
      "metadata": {
        "id": "304PEp0MKT0Y"
      },
      "outputs": [],
      "source": [
        "plot_feature_importances(X_train.columns.tolist(), model['model'].feature_importances_, top=20)"
      ]
    },
    {
      "cell_type": "code",
      "execution_count": null,
      "metadata": {
        "id": "ETXAbLYvKT0Z"
      },
      "outputs": [],
      "source": [
        ""
      ]
    }
  ],
  "metadata": {
    "interpreter": {
      "hash": "e356487a367c09815f149deeb0c06c403bb7e1d4559e3ed4c742d26ebdaf5ab7"
    },
    "kernelspec": {
      "display_name": "Python 3.8.10 ('ml-credit-risk-a67-SeUJ')",
      "language": "python",
      "name": "python3"
    },
    "language_info": {
      "codemirror_mode": {
        "name": "ipython",
        "version": 3
      },
      "file_extension": ".py",
      "mimetype": "text/x-python",
      "name": "python",
      "nbconvert_exporter": "python",
      "pygments_lexer": "ipython3",
      "version": "3.8.10"
    },
    "orig_nbformat": 4,
    "colab": {
      "name": "featuretools_FE.ipynb",
      "provenance": [],
      "include_colab_link": true
    },
    "accelerator": "GPU"
  },
  "nbformat": 4,
  "nbformat_minor": 0
}